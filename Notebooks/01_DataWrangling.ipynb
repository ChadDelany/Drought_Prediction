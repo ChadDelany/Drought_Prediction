{
 "cells": [
  {
   "cell_type": "markdown",
   "id": "116cfc1a",
   "metadata": {},
   "source": [
    "<h1> Drought Prediction </h1>"
   ]
  },
  {
   "cell_type": "markdown",
   "id": "c5741692",
   "metadata": {},
   "source": [
    "<h2> Data Wrangling </h2>"
   ]
  },
  {
   "cell_type": "code",
   "execution_count": 1,
   "id": "a98b45c4",
   "metadata": {},
   "outputs": [],
   "source": [
    "#Import pandas, matplotlib.pyplot, and seaborn in the correct lines below\n",
    "import pandas as pd\n",
    "import matplotlib.pyplot as plt\n",
    "import seaborn as sns\n",
    "import os\n",
    "\n",
    "# from library.sb_utils import save_file"
   ]
  },
  {
   "cell_type": "code",
   "execution_count": null,
   "id": "4659c41d",
   "metadata": {},
   "outputs": [],
   "source": []
  }
 ],
 "metadata": {
  "kernelspec": {
   "display_name": "Python 3 (ipykernel)",
   "language": "python",
   "name": "python3"
  },
  "language_info": {
   "codemirror_mode": {
    "name": "ipython",
    "version": 3
   },
   "file_extension": ".py",
   "mimetype": "text/x-python",
   "name": "python",
   "nbconvert_exporter": "python",
   "pygments_lexer": "ipython3",
   "version": "3.9.7"
  }
 },
 "nbformat": 4,
 "nbformat_minor": 5
}
