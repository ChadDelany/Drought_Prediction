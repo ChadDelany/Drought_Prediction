{
 "cells": [
  {
   "cell_type": "markdown",
   "id": "19208783",
   "metadata": {},
   "source": [
    "<h1> Drought Prediction </h1>"
   ]
  },
  {
   "cell_type": "markdown",
   "id": "50773825",
   "metadata": {},
   "source": [
    "<h2> Data Wrangling </h2>"
   ]
  },
  {
   "cell_type": "code",
   "execution_count": 2,
   "id": "8549242d",
   "metadata": {},
   "outputs": [],
   "source": [
    "#Import pandas, matplotlib.pyplot, and seaborn\n",
    "import pandas as pd\n",
    "import matplotlib.pyplot as plt\n",
    "import seaborn as sns\n",
    "import os\n",
    "\n",
    "# from library.sb_utils import save_file"
   ]
  },
  {
   "cell_type": "markdown",
   "id": "ae7bc737",
   "metadata": {},
   "source": [
    "<b> Load Soil, Meteorological, and Drought Data. </b>"
   ]
  },
  {
   "cell_type": "code",
   "execution_count": 15,
   "id": "6a86b7eb",
   "metadata": {},
   "outputs": [],
   "source": [
    "#Local location of the data\n",
    "local_data = 'D:\\\\Data_Science\\\\DroughtProject\\\\Data\\\\'\n",
    "\n",
    "# The data is split into four csv files.\n",
    "# Load all four files\n",
    "soil_set = pd.read_csv(local_data + 'soil_data.csv')\n",
    "test_set = pd.read_csv(local_data + 'test_timeseries.csv')\n",
    "train_set = pd.read_csv(local_data + 'train_timeseries.csv')\n",
    "validation_set = pd.read_csv(local_data + 'validation_timeseries.csv')"
   ]
  },
  {
   "cell_type": "code",
   "execution_count": null,
   "id": "30c02333",
   "metadata": {},
   "outputs": [],
   "source": []
  }
 ],
 "metadata": {
  "kernelspec": {
   "display_name": "Python 3 (ipykernel)",
   "language": "python",
   "name": "python3"
  },
  "language_info": {
   "codemirror_mode": {
    "name": "ipython",
    "version": 3
   },
   "file_extension": ".py",
   "mimetype": "text/x-python",
   "name": "python",
   "nbconvert_exporter": "python",
   "pygments_lexer": "ipython3",
   "version": "3.9.7"
  }
 },
 "nbformat": 4,
 "nbformat_minor": 5
}
