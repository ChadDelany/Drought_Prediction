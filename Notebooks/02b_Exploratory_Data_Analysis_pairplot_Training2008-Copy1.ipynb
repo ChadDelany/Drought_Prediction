{
 "cells": [
  {
   "cell_type": "markdown",
   "id": "ffddb8c1",
   "metadata": {},
   "source": [
    "# <u>Drought Prediction</u>: Exploratory Data Analysis - pairplot"
   ]
  },
  {
   "cell_type": "markdown",
   "id": "a24ebbd5",
   "metadata": {},
   "source": [
    "INSERT INTRODUCTION AND CONTEXT"
   ]
  },
  {
   "cell_type": "markdown",
   "id": "59f9be5d",
   "metadata": {},
   "source": [
    "#### Import neccesary libraries for data exploration."
   ]
  },
  {
   "cell_type": "code",
   "execution_count": 1,
   "id": "d3e7559a",
   "metadata": {},
   "outputs": [],
   "source": [
    "#Import pandas, matplotlib.pyplot, and seaborn\n",
    "import pandas as pd\n",
    "import matplotlib.pyplot as plt\n",
    "import seaborn as sns"
   ]
  },
  {
   "cell_type": "markdown",
   "id": "4892ac13",
   "metadata": {},
   "source": [
    "#### Load Training Dataset and Soil Dataset.  Convert Training Dataset date variable from object to datetime."
   ]
  },
  {
   "cell_type": "code",
   "execution_count": 2,
   "id": "8e7c0014",
   "metadata": {},
   "outputs": [],
   "source": [
    "# Local location of the data\n",
    "# local_data = 'D:\\\\Data_Science\\\\DroughtProject\\\\Data\\\\' # Location on Windows\n",
    "local_data = '/home/chad/Data/Drought_Prediction/' # Location on Linux\n",
    "\n",
    "# Load the training set.\n",
    "train_set = pd.read_csv(local_data + 'train_timeseries.csv')"
   ]
  },
  {
   "cell_type": "code",
   "execution_count": 3,
   "id": "efae3913",
   "metadata": {},
   "outputs": [],
   "source": [
    "# Convert date column from object to datetime for training set.\n",
    "train_set['date'] = pd.to_datetime(train_set['date'])"
   ]
  },
  {
   "cell_type": "markdown",
   "id": "68ecd874",
   "metadata": {},
   "source": [
    "### Pairwise plot of the Training Dataset for the year 2008.\n",
    "Run out of RAM to run pairplot on the entire dataset.  So, upgraded RAM from 16GB to 32GB, switched from Windows to Linux, and am now able to run pairplot for one year or a complete seasonal cycle."
   ]
  },
  {
   "cell_type": "code",
   "execution_count": null,
   "id": "ebf7c358",
   "metadata": {},
   "outputs": [],
   "source": [
    "# train_set_2008 = train_set[pd.DatetimeIndex(train_set['date']).year == 2008]"
   ]
  },
  {
   "cell_type": "code",
   "execution_count": null,
   "id": "3423a155",
   "metadata": {},
   "outputs": [],
   "source": [
    "sns.pairplot(train_set)"
   ]
  },
  {
   "cell_type": "markdown",
   "id": "81139df0",
   "metadata": {},
   "source": []
  }
 ],
 "metadata": {
  "kernelspec": {
   "display_name": "Python 3 (ipykernel)",
   "language": "python",
   "name": "python3"
  },
  "language_info": {
   "codemirror_mode": {
    "name": "ipython",
    "version": 3
   },
   "file_extension": ".py",
   "mimetype": "text/x-python",
   "name": "python",
   "nbconvert_exporter": "python",
   "pygments_lexer": "ipython3",
   "version": "3.9.12"
  }
 },
 "nbformat": 4,
 "nbformat_minor": 5
}
